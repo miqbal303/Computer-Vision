{
 "cells": [
  {
   "cell_type": "code",
   "execution_count": 2,
   "metadata": {},
   "outputs": [],
   "source": [
    "import os\n",
    "from dotenv import load_dotenv\n",
    "\n",
    "# Load environment variables from .env file\n",
    "load_dotenv()\n",
    "\n",
    "# access the environment variables\n",
    "GOOGLE_API_KEY = os.getenv('KEY')\n"
   ]
  },
  {
   "cell_type": "code",
   "execution_count": 3,
   "metadata": {},
   "outputs": [
    {
     "name": "stderr",
     "output_type": "stream",
     "text": [
      "d:\\Computer-Vision\\caption_generator\\Caption3.11\\Lib\\site-packages\\tqdm\\auto.py:21: TqdmWarning: IProgress not found. Please update jupyter and ipywidgets. See https://ipywidgets.readthedocs.io/en/stable/user_install.html\n",
      "  from .autonotebook import tqdm as notebook_tqdm\n"
     ]
    }
   ],
   "source": [
    "import google.generativeai as genai\n",
    "\n",
    "genai.configure(api_key=GOOGLE_API_KEY)\n",
    "model = genai.GenerativeModel('gemini-pro')"
   ]
  },
  {
   "cell_type": "code",
   "execution_count": 4,
   "metadata": {},
   "outputs": [
    {
     "name": "stdout",
     "output_type": "stream",
     "text": [
      "In the bustling town of Willow Creek, there lived an ordinary boy named Ethan. Little did he know that his life was about to take an extraordinary turn.\n",
      "\n",
      "One sunny afternoon, Ethan stumbled upon an unassuming backpack abandoned in the park. Intrigued, he picked it up and examined it closer. It was a simple black backpack, but there was an unmistakable aura of magic about it.\n",
      "\n",
      "As Ethan fastened the straps and hoisted it onto his shoulders, he felt a surge of energy coursing through his body. To his astonishment, the backpack began to glow faintly, illuminating the surrounding area with a soft ethereal light.\n",
      "\n",
      "Ethan's curiosity got the better of him, and he reached into one of the pockets. His fingers brushed against something cool and smooth, and he gasped in amazement as he pulled out a shimmering silver key. He tried to unlock the other pockets, but they remained stubbornly closed.\n",
      "\n",
      "Days turned into weeks, and Ethan became inseparable from his magical backpack. It granted him incredible abilities. Whenever he felt tired, he could reach into the backpack and pull out a vial of potion that instantly restored his energy. If he needed help with his homework, he could find pencils and notebooks that provided him with the answers he sought.\n",
      "\n",
      "But with great power came great responsibility. Ethan discovered that the backpack also contained a compass that led him to hidden treasures. He used it to find lost pets, retrieve forgotten memories, and even create simple illusions.\n",
      "\n",
      "As Ethan's adventures continued, he couldn't help but wonder about the origins of the backpack. He visited antique shops, consulted with wise old librarians, and searched countless books, but his questions remained unanswered.\n",
      "\n",
      "One day, while exploring a secluded forest, Ethan noticed a faint shimmer in the distance. Curiosity drew him closer, and he gasped in awe as he saw a magnificent white unicorn standing before him. The unicorn explained that the backpack was a gift from the realm of the Fae, a magical place hidden from ordinary mortals.\n",
      "\n",
      "The unicorn warned Ethan that the backpack's powers could be used for both good and evil, and it was up to him to make wise choices. With a heavy heart, Ethan bid farewell to his magical companion and returned to the human world.\n",
      "\n",
      "From that day forward, Ethan used the backpack sparingly and always for the greater good. He became a hero to his town, performing countless acts of kindness. And though the secrets of the magical backpack remained hidden, Ethan knew that he possessed a treasure that would forever enrich his life.\n"
     ]
    }
   ],
   "source": [
    "response = model.generate_content(\"Write a story about a magic backpack.\")\n",
    "print(response.text)"
   ]
  }
 ],
 "metadata": {
  "kernelspec": {
   "display_name": "Python 3",
   "language": "python",
   "name": "python3"
  },
  "language_info": {
   "codemirror_mode": {
    "name": "ipython",
    "version": 3
   },
   "file_extension": ".py",
   "mimetype": "text/x-python",
   "name": "python",
   "nbconvert_exporter": "python",
   "pygments_lexer": "ipython3",
   "version": "3.11.8"
  }
 },
 "nbformat": 4,
 "nbformat_minor": 2
}
